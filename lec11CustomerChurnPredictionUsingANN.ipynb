{
 "cells": [
  {
   "cell_type": "code",
   "execution_count": 1,
   "id": "591be876-8584-491d-a4f5-759063ca78f3",
   "metadata": {},
   "outputs": [],
   "source": [
    "import numpy as np\n",
    "import pandas as pd \n"
   ]
  },
  {
   "cell_type": "code",
   "execution_count": 5,
   "id": "eabb11d0-0e22-43ca-ab60-d088cf4d3001",
   "metadata": {},
   "outputs": [
    {
     "name": "stdout",
     "output_type": "stream",
     "text": [
      "<class 'pandas.core.frame.DataFrame'>\n",
      "RangeIndex: 10000 entries, 0 to 9999\n",
      "Data columns (total 14 columns):\n",
      " #   Column           Non-Null Count  Dtype  \n",
      "---  ------           --------------  -----  \n",
      " 0   RowNumber        10000 non-null  int64  \n",
      " 1   CustomerId       10000 non-null  int64  \n",
      " 2   Surname          10000 non-null  object \n",
      " 3   CreditScore      10000 non-null  int64  \n",
      " 4   Geography        10000 non-null  object \n",
      " 5   Gender           10000 non-null  object \n",
      " 6   Age              10000 non-null  int64  \n",
      " 7   Tenure           10000 non-null  int64  \n",
      " 8   Balance          10000 non-null  float64\n",
      " 9   NumOfProducts    10000 non-null  int64  \n",
      " 10  HasCrCard        10000 non-null  int64  \n",
      " 11  IsActiveMember   10000 non-null  int64  \n",
      " 12  EstimatedSalary  10000 non-null  float64\n",
      " 13  Exited           10000 non-null  int64  \n",
      "dtypes: float64(2), int64(9), object(3)\n",
      "memory usage: 1.1+ MB\n"
     ]
    }
   ],
   "source": [
    "df = pd.read_csv('Churn_Modelling.csv')\n",
    "df.info()"
   ]
  },
  {
   "cell_type": "code",
   "execution_count": 6,
   "id": "5f72094a-c817-40b2-ad6b-d31e822b698f",
   "metadata": {},
   "outputs": [
    {
     "data": {
      "text/html": [
       "<div>\n",
       "<style scoped>\n",
       "    .dataframe tbody tr th:only-of-type {\n",
       "        vertical-align: middle;\n",
       "    }\n",
       "\n",
       "    .dataframe tbody tr th {\n",
       "        vertical-align: top;\n",
       "    }\n",
       "\n",
       "    .dataframe thead th {\n",
       "        text-align: right;\n",
       "    }\n",
       "</style>\n",
       "<table border=\"1\" class=\"dataframe\">\n",
       "  <thead>\n",
       "    <tr style=\"text-align: right;\">\n",
       "      <th></th>\n",
       "      <th>RowNumber</th>\n",
       "      <th>CustomerId</th>\n",
       "      <th>CreditScore</th>\n",
       "      <th>Age</th>\n",
       "      <th>Tenure</th>\n",
       "      <th>Balance</th>\n",
       "      <th>NumOfProducts</th>\n",
       "      <th>HasCrCard</th>\n",
       "      <th>IsActiveMember</th>\n",
       "      <th>EstimatedSalary</th>\n",
       "      <th>Exited</th>\n",
       "    </tr>\n",
       "  </thead>\n",
       "  <tbody>\n",
       "    <tr>\n",
       "      <th>count</th>\n",
       "      <td>10000.00000</td>\n",
       "      <td>1.000000e+04</td>\n",
       "      <td>10000.000000</td>\n",
       "      <td>10000.000000</td>\n",
       "      <td>10000.000000</td>\n",
       "      <td>10000.000000</td>\n",
       "      <td>10000.000000</td>\n",
       "      <td>10000.00000</td>\n",
       "      <td>10000.000000</td>\n",
       "      <td>10000.000000</td>\n",
       "      <td>10000.000000</td>\n",
       "    </tr>\n",
       "    <tr>\n",
       "      <th>mean</th>\n",
       "      <td>5000.50000</td>\n",
       "      <td>1.569094e+07</td>\n",
       "      <td>650.528800</td>\n",
       "      <td>38.921800</td>\n",
       "      <td>5.012800</td>\n",
       "      <td>76485.889288</td>\n",
       "      <td>1.530200</td>\n",
       "      <td>0.70550</td>\n",
       "      <td>0.515100</td>\n",
       "      <td>100090.239881</td>\n",
       "      <td>0.203700</td>\n",
       "    </tr>\n",
       "    <tr>\n",
       "      <th>std</th>\n",
       "      <td>2886.89568</td>\n",
       "      <td>7.193619e+04</td>\n",
       "      <td>96.653299</td>\n",
       "      <td>10.487806</td>\n",
       "      <td>2.892174</td>\n",
       "      <td>62397.405202</td>\n",
       "      <td>0.581654</td>\n",
       "      <td>0.45584</td>\n",
       "      <td>0.499797</td>\n",
       "      <td>57510.492818</td>\n",
       "      <td>0.402769</td>\n",
       "    </tr>\n",
       "    <tr>\n",
       "      <th>min</th>\n",
       "      <td>1.00000</td>\n",
       "      <td>1.556570e+07</td>\n",
       "      <td>350.000000</td>\n",
       "      <td>18.000000</td>\n",
       "      <td>0.000000</td>\n",
       "      <td>0.000000</td>\n",
       "      <td>1.000000</td>\n",
       "      <td>0.00000</td>\n",
       "      <td>0.000000</td>\n",
       "      <td>11.580000</td>\n",
       "      <td>0.000000</td>\n",
       "    </tr>\n",
       "    <tr>\n",
       "      <th>25%</th>\n",
       "      <td>2500.75000</td>\n",
       "      <td>1.562853e+07</td>\n",
       "      <td>584.000000</td>\n",
       "      <td>32.000000</td>\n",
       "      <td>3.000000</td>\n",
       "      <td>0.000000</td>\n",
       "      <td>1.000000</td>\n",
       "      <td>0.00000</td>\n",
       "      <td>0.000000</td>\n",
       "      <td>51002.110000</td>\n",
       "      <td>0.000000</td>\n",
       "    </tr>\n",
       "    <tr>\n",
       "      <th>50%</th>\n",
       "      <td>5000.50000</td>\n",
       "      <td>1.569074e+07</td>\n",
       "      <td>652.000000</td>\n",
       "      <td>37.000000</td>\n",
       "      <td>5.000000</td>\n",
       "      <td>97198.540000</td>\n",
       "      <td>1.000000</td>\n",
       "      <td>1.00000</td>\n",
       "      <td>1.000000</td>\n",
       "      <td>100193.915000</td>\n",
       "      <td>0.000000</td>\n",
       "    </tr>\n",
       "    <tr>\n",
       "      <th>75%</th>\n",
       "      <td>7500.25000</td>\n",
       "      <td>1.575323e+07</td>\n",
       "      <td>718.000000</td>\n",
       "      <td>44.000000</td>\n",
       "      <td>7.000000</td>\n",
       "      <td>127644.240000</td>\n",
       "      <td>2.000000</td>\n",
       "      <td>1.00000</td>\n",
       "      <td>1.000000</td>\n",
       "      <td>149388.247500</td>\n",
       "      <td>0.000000</td>\n",
       "    </tr>\n",
       "    <tr>\n",
       "      <th>max</th>\n",
       "      <td>10000.00000</td>\n",
       "      <td>1.581569e+07</td>\n",
       "      <td>850.000000</td>\n",
       "      <td>92.000000</td>\n",
       "      <td>10.000000</td>\n",
       "      <td>250898.090000</td>\n",
       "      <td>4.000000</td>\n",
       "      <td>1.00000</td>\n",
       "      <td>1.000000</td>\n",
       "      <td>199992.480000</td>\n",
       "      <td>1.000000</td>\n",
       "    </tr>\n",
       "  </tbody>\n",
       "</table>\n",
       "</div>"
      ],
      "text/plain": [
       "         RowNumber    CustomerId   CreditScore           Age        Tenure  \\\n",
       "count  10000.00000  1.000000e+04  10000.000000  10000.000000  10000.000000   \n",
       "mean    5000.50000  1.569094e+07    650.528800     38.921800      5.012800   \n",
       "std     2886.89568  7.193619e+04     96.653299     10.487806      2.892174   \n",
       "min        1.00000  1.556570e+07    350.000000     18.000000      0.000000   \n",
       "25%     2500.75000  1.562853e+07    584.000000     32.000000      3.000000   \n",
       "50%     5000.50000  1.569074e+07    652.000000     37.000000      5.000000   \n",
       "75%     7500.25000  1.575323e+07    718.000000     44.000000      7.000000   \n",
       "max    10000.00000  1.581569e+07    850.000000     92.000000     10.000000   \n",
       "\n",
       "             Balance  NumOfProducts    HasCrCard  IsActiveMember  \\\n",
       "count   10000.000000   10000.000000  10000.00000    10000.000000   \n",
       "mean    76485.889288       1.530200      0.70550        0.515100   \n",
       "std     62397.405202       0.581654      0.45584        0.499797   \n",
       "min         0.000000       1.000000      0.00000        0.000000   \n",
       "25%         0.000000       1.000000      0.00000        0.000000   \n",
       "50%     97198.540000       1.000000      1.00000        1.000000   \n",
       "75%    127644.240000       2.000000      1.00000        1.000000   \n",
       "max    250898.090000       4.000000      1.00000        1.000000   \n",
       "\n",
       "       EstimatedSalary        Exited  \n",
       "count     10000.000000  10000.000000  \n",
       "mean     100090.239881      0.203700  \n",
       "std       57510.492818      0.402769  \n",
       "min          11.580000      0.000000  \n",
       "25%       51002.110000      0.000000  \n",
       "50%      100193.915000      0.000000  \n",
       "75%      149388.247500      0.000000  \n",
       "max      199992.480000      1.000000  "
      ]
     },
     "execution_count": 6,
     "metadata": {},
     "output_type": "execute_result"
    }
   ],
   "source": [
    "df.describe()"
   ]
  },
  {
   "cell_type": "code",
   "execution_count": 8,
   "id": "13a47e63-504a-4aa8-9a4a-9206ab59908c",
   "metadata": {},
   "outputs": [
    {
     "data": {
      "text/plain": [
       "0"
      ]
     },
     "execution_count": 8,
     "metadata": {},
     "output_type": "execute_result"
    }
   ],
   "source": [
    "df.duplicated().sum()"
   ]
  },
  {
   "cell_type": "code",
   "execution_count": 10,
   "id": "bd4c7976-0719-4c4d-a968-bbaea4585fcc",
   "metadata": {},
   "outputs": [
    {
     "data": {
      "text/plain": [
       "Exited\n",
       "0    7963\n",
       "1    2037\n",
       "Name: count, dtype: int64"
      ]
     },
     "execution_count": 10,
     "metadata": {},
     "output_type": "execute_result"
    }
   ],
   "source": [
    "df['Exited'].value_counts()"
   ]
  },
  {
   "cell_type": "code",
   "execution_count": 11,
   "id": "9a528d70-e125-438a-bca7-6b70d93e4dac",
   "metadata": {},
   "outputs": [],
   "source": [
    "df.drop(columns = ['RowNumber' , 'CustomerId' , 'Surname'] , inplace = True)"
   ]
  },
  {
   "cell_type": "code",
   "execution_count": 15,
   "id": "3161f40a-a60e-4c00-85ab-59aba323d06a",
   "metadata": {},
   "outputs": [],
   "source": [
    "df = pd.get_dummies(df , columns= ['Geography' , 'Gender' ] , drop_first = True)"
   ]
  },
  {
   "cell_type": "code",
   "execution_count": 17,
   "id": "28f807e6-6bdf-4573-a1ca-0b4562bbed98",
   "metadata": {},
   "outputs": [
    {
     "name": "stdout",
     "output_type": "stream",
     "text": [
      "      CreditScore  Age  Tenure    Balance  NumOfProducts  HasCrCard  \\\n",
      "0             619   42       2       0.00              1          1   \n",
      "1             608   41       1   83807.86              1          0   \n",
      "2             502   42       8  159660.80              3          1   \n",
      "3             699   39       1       0.00              2          0   \n",
      "4             850   43       2  125510.82              1          1   \n",
      "...           ...  ...     ...        ...            ...        ...   \n",
      "9995          771   39       5       0.00              2          1   \n",
      "9996          516   35      10   57369.61              1          1   \n",
      "9997          709   36       7       0.00              1          0   \n",
      "9998          772   42       3   75075.31              2          1   \n",
      "9999          792   28       4  130142.79              1          1   \n",
      "\n",
      "      IsActiveMember  EstimatedSalary  Exited  Geography_Germany  \\\n",
      "0                  1        101348.88       1              False   \n",
      "1                  1        112542.58       0              False   \n",
      "2                  0        113931.57       1              False   \n",
      "3                  0         93826.63       0              False   \n",
      "4                  1         79084.10       0              False   \n",
      "...              ...              ...     ...                ...   \n",
      "9995               0         96270.64       0              False   \n",
      "9996               1        101699.77       0              False   \n",
      "9997               1         42085.58       1              False   \n",
      "9998               0         92888.52       1               True   \n",
      "9999               0         38190.78       0              False   \n",
      "\n",
      "      Geography_Spain  Gender_Male  \n",
      "0               False        False  \n",
      "1                True        False  \n",
      "2               False        False  \n",
      "3               False        False  \n",
      "4                True        False  \n",
      "...               ...          ...  \n",
      "9995            False         True  \n",
      "9996            False         True  \n",
      "9997            False        False  \n",
      "9998            False         True  \n",
      "9999            False        False  \n",
      "\n",
      "[10000 rows x 12 columns]\n"
     ]
    }
   ],
   "source": [
    "print(df)"
   ]
  },
  {
   "cell_type": "code",
   "execution_count": 18,
   "id": "5a95bb04-ded3-4838-a18b-4726e3a120a8",
   "metadata": {},
   "outputs": [],
   "source": [
    "X = df.drop(columns = ['Exited'])\n",
    "y = df['Exited']"
   ]
  },
  {
   "cell_type": "code",
   "execution_count": 19,
   "id": "d79dd274-6ab3-40ed-8419-2f8a16aeafb2",
   "metadata": {},
   "outputs": [],
   "source": [
    "from sklearn.model_selection import train_test_split"
   ]
  },
  {
   "cell_type": "code",
   "execution_count": 20,
   "id": "7095df7a-bac9-446e-89d9-fd5acf08dc97",
   "metadata": {},
   "outputs": [],
   "source": [
    "X_train , X_test , y_train , y_test = train_test_split(X,y,test_size = 0.2 , random_state = 1)"
   ]
  },
  {
   "cell_type": "code",
   "execution_count": 23,
   "id": "47fa8a8c-a59e-462b-a68e-8981713f47b3",
   "metadata": {},
   "outputs": [],
   "source": [
    "from sklearn.preprocessing import StandardScaler"
   ]
  },
  {
   "cell_type": "code",
   "execution_count": 25,
   "id": "aaba62b3-b73c-4b2c-919a-46797e161f30",
   "metadata": {},
   "outputs": [],
   "source": [
    "scaler = StandardScaler()\n",
    "X_train_scaled = scaler.fit_transform(X_train)\n",
    "X_test_scaled = scaler.transform(X_test)"
   ]
  },
  {
   "cell_type": "code",
   "execution_count": 65,
   "id": "22b1e55f-aed7-4df8-b306-fbd24346c04b",
   "metadata": {},
   "outputs": [
    {
     "data": {
      "text/plain": [
       "(8000, 11)"
      ]
     },
     "execution_count": 65,
     "metadata": {},
     "output_type": "execute_result"
    }
   ],
   "source": [
    "X_train_scaled.shape"
   ]
  },
  {
   "cell_type": "code",
   "execution_count": 33,
   "id": "685731af-5a73-4991-ad45-bd75b94d5759",
   "metadata": {},
   "outputs": [],
   "source": [
    "import tensorflow\n",
    "from tensorflow.keras import Sequential\n",
    "from tensorflow.keras.layers import Dense"
   ]
  },
  {
   "cell_type": "code",
   "execution_count": 66,
   "id": "28cee7c0-5c1e-406f-861c-b0e9647a0ad8",
   "metadata": {},
   "outputs": [
    {
     "name": "stdout",
     "output_type": "stream",
     "text": [
      "Model: \"sequential_2\"\n",
      "_________________________________________________________________\n",
      " Layer (type)                Output Shape              Param #   \n",
      "=================================================================\n",
      " dense_5 (Dense)             (None, 11)                132       \n",
      "                                                                 \n",
      " dense_6 (Dense)             (None, 6)                 72        \n",
      "                                                                 \n",
      " dense_7 (Dense)             (None, 1)                 7         \n",
      "                                                                 \n",
      "=================================================================\n",
      "Total params: 211 (844.00 Byte)\n",
      "Trainable params: 211 (844.00 Byte)\n",
      "Non-trainable params: 0 (0.00 Byte)\n",
      "_________________________________________________________________\n"
     ]
    }
   ],
   "source": [
    "model = Sequential()\n",
    "model.add(Dense(11,activation = 'relu' , input_dim = 11))\n",
    "model.add(Dense(6,activation = 'relu' ))\n",
    "model.add(Dense(1,activation = 'sigmoid'))\n",
    "model.summary()"
   ]
  },
  {
   "cell_type": "code",
   "execution_count": 67,
   "id": "b65be2ff-225e-4e95-84e5-3a7d733cf9fc",
   "metadata": {},
   "outputs": [],
   "source": [
    "model.compile(loss = 'binary_crossentropy' , optimizer = 'adam' , metrics = ['accuracy'])"
   ]
  },
  {
   "cell_type": "code",
   "execution_count": 68,
   "id": "81d535ed-8bef-438d-9850-faefe088b8d7",
   "metadata": {},
   "outputs": [
    {
     "name": "stdout",
     "output_type": "stream",
     "text": [
      "Epoch 1/100\n",
      "200/200 - 2s - loss: 0.6558 - accuracy: 0.6191 - val_loss: 0.5231 - val_accuracy: 0.7906 - 2s/epoch - 9ms/step\n",
      "Epoch 2/100\n",
      "200/200 - 1s - loss: 0.4747 - accuracy: 0.8009 - val_loss: 0.4500 - val_accuracy: 0.8106 - 735ms/epoch - 4ms/step\n",
      "Epoch 3/100\n",
      "200/200 - 1s - loss: 0.4324 - accuracy: 0.8200 - val_loss: 0.4298 - val_accuracy: 0.8144 - 657ms/epoch - 3ms/step\n",
      "Epoch 4/100\n",
      "200/200 - 1s - loss: 0.4187 - accuracy: 0.8284 - val_loss: 0.4207 - val_accuracy: 0.8156 - 692ms/epoch - 3ms/step\n",
      "Epoch 5/100\n",
      "200/200 - 1s - loss: 0.4104 - accuracy: 0.8291 - val_loss: 0.4132 - val_accuracy: 0.8175 - 685ms/epoch - 3ms/step\n",
      "Epoch 6/100\n",
      "200/200 - 1s - loss: 0.4042 - accuracy: 0.8334 - val_loss: 0.4062 - val_accuracy: 0.8225 - 665ms/epoch - 3ms/step\n",
      "Epoch 7/100\n",
      "200/200 - 1s - loss: 0.3980 - accuracy: 0.8378 - val_loss: 0.3997 - val_accuracy: 0.8263 - 678ms/epoch - 3ms/step\n",
      "Epoch 8/100\n",
      "200/200 - 1s - loss: 0.3925 - accuracy: 0.8397 - val_loss: 0.3939 - val_accuracy: 0.8288 - 654ms/epoch - 3ms/step\n",
      "Epoch 9/100\n",
      "200/200 - 1s - loss: 0.3867 - accuracy: 0.8441 - val_loss: 0.3881 - val_accuracy: 0.8306 - 673ms/epoch - 3ms/step\n",
      "Epoch 10/100\n",
      "200/200 - 1s - loss: 0.3806 - accuracy: 0.8439 - val_loss: 0.3822 - val_accuracy: 0.8325 - 624ms/epoch - 3ms/step\n",
      "Epoch 11/100\n",
      "200/200 - 1s - loss: 0.3746 - accuracy: 0.8472 - val_loss: 0.3747 - val_accuracy: 0.8363 - 620ms/epoch - 3ms/step\n",
      "Epoch 12/100\n",
      "200/200 - 1s - loss: 0.3683 - accuracy: 0.8492 - val_loss: 0.3699 - val_accuracy: 0.8444 - 725ms/epoch - 4ms/step\n",
      "Epoch 13/100\n",
      "200/200 - 1s - loss: 0.3634 - accuracy: 0.8533 - val_loss: 0.3637 - val_accuracy: 0.8456 - 664ms/epoch - 3ms/step\n",
      "Epoch 14/100\n",
      "200/200 - 1s - loss: 0.3583 - accuracy: 0.8547 - val_loss: 0.3605 - val_accuracy: 0.8431 - 712ms/epoch - 4ms/step\n",
      "Epoch 15/100\n",
      "200/200 - 1s - loss: 0.3551 - accuracy: 0.8567 - val_loss: 0.3574 - val_accuracy: 0.8450 - 654ms/epoch - 3ms/step\n",
      "Epoch 16/100\n",
      "200/200 - 1s - loss: 0.3520 - accuracy: 0.8581 - val_loss: 0.3535 - val_accuracy: 0.8462 - 607ms/epoch - 3ms/step\n",
      "Epoch 17/100\n",
      "200/200 - 1s - loss: 0.3490 - accuracy: 0.8578 - val_loss: 0.3521 - val_accuracy: 0.8475 - 595ms/epoch - 3ms/step\n",
      "Epoch 18/100\n",
      "200/200 - 1s - loss: 0.3469 - accuracy: 0.8608 - val_loss: 0.3502 - val_accuracy: 0.8494 - 731ms/epoch - 4ms/step\n",
      "Epoch 19/100\n",
      "200/200 - 1s - loss: 0.3457 - accuracy: 0.8597 - val_loss: 0.3500 - val_accuracy: 0.8500 - 696ms/epoch - 3ms/step\n",
      "Epoch 20/100\n",
      "200/200 - 1s - loss: 0.3442 - accuracy: 0.8597 - val_loss: 0.3493 - val_accuracy: 0.8500 - 749ms/epoch - 4ms/step\n",
      "Epoch 21/100\n",
      "200/200 - 1s - loss: 0.3431 - accuracy: 0.8605 - val_loss: 0.3470 - val_accuracy: 0.8506 - 665ms/epoch - 3ms/step\n",
      "Epoch 22/100\n",
      "200/200 - 1s - loss: 0.3419 - accuracy: 0.8628 - val_loss: 0.3469 - val_accuracy: 0.8500 - 709ms/epoch - 4ms/step\n",
      "Epoch 23/100\n",
      "200/200 - 1s - loss: 0.3414 - accuracy: 0.8612 - val_loss: 0.3458 - val_accuracy: 0.8494 - 648ms/epoch - 3ms/step\n",
      "Epoch 24/100\n",
      "200/200 - 1s - loss: 0.3407 - accuracy: 0.8622 - val_loss: 0.3451 - val_accuracy: 0.8544 - 691ms/epoch - 3ms/step\n",
      "Epoch 25/100\n",
      "200/200 - 1s - loss: 0.3401 - accuracy: 0.8606 - val_loss: 0.3458 - val_accuracy: 0.8519 - 628ms/epoch - 3ms/step\n",
      "Epoch 26/100\n",
      "200/200 - 1s - loss: 0.3392 - accuracy: 0.8617 - val_loss: 0.3452 - val_accuracy: 0.8506 - 667ms/epoch - 3ms/step\n",
      "Epoch 27/100\n",
      "200/200 - 1s - loss: 0.3389 - accuracy: 0.8602 - val_loss: 0.3459 - val_accuracy: 0.8506 - 755ms/epoch - 4ms/step\n",
      "Epoch 28/100\n",
      "200/200 - 1s - loss: 0.3379 - accuracy: 0.8616 - val_loss: 0.3469 - val_accuracy: 0.8506 - 682ms/epoch - 3ms/step\n",
      "Epoch 29/100\n",
      "200/200 - 1s - loss: 0.3374 - accuracy: 0.8622 - val_loss: 0.3441 - val_accuracy: 0.8525 - 604ms/epoch - 3ms/step\n",
      "Epoch 30/100\n",
      "200/200 - 1s - loss: 0.3375 - accuracy: 0.8589 - val_loss: 0.3456 - val_accuracy: 0.8487 - 611ms/epoch - 3ms/step\n",
      "Epoch 31/100\n",
      "200/200 - 1s - loss: 0.3367 - accuracy: 0.8612 - val_loss: 0.3465 - val_accuracy: 0.8481 - 635ms/epoch - 3ms/step\n",
      "Epoch 32/100\n",
      "200/200 - 1s - loss: 0.3362 - accuracy: 0.8614 - val_loss: 0.3463 - val_accuracy: 0.8487 - 737ms/epoch - 4ms/step\n",
      "Epoch 33/100\n",
      "200/200 - 1s - loss: 0.3357 - accuracy: 0.8595 - val_loss: 0.3449 - val_accuracy: 0.8512 - 687ms/epoch - 3ms/step\n",
      "Epoch 34/100\n",
      "200/200 - 1s - loss: 0.3356 - accuracy: 0.8620 - val_loss: 0.3465 - val_accuracy: 0.8475 - 573ms/epoch - 3ms/step\n",
      "Epoch 35/100\n",
      "200/200 - 1s - loss: 0.3353 - accuracy: 0.8633 - val_loss: 0.3459 - val_accuracy: 0.8475 - 712ms/epoch - 4ms/step\n",
      "Epoch 36/100\n",
      "200/200 - 1s - loss: 0.3350 - accuracy: 0.8606 - val_loss: 0.3461 - val_accuracy: 0.8487 - 627ms/epoch - 3ms/step\n",
      "Epoch 37/100\n",
      "200/200 - 1s - loss: 0.3341 - accuracy: 0.8627 - val_loss: 0.3453 - val_accuracy: 0.8481 - 643ms/epoch - 3ms/step\n",
      "Epoch 38/100\n",
      "200/200 - 1s - loss: 0.3339 - accuracy: 0.8633 - val_loss: 0.3458 - val_accuracy: 0.8487 - 649ms/epoch - 3ms/step\n",
      "Epoch 39/100\n",
      "200/200 - 1s - loss: 0.3336 - accuracy: 0.8636 - val_loss: 0.3462 - val_accuracy: 0.8462 - 658ms/epoch - 3ms/step\n",
      "Epoch 40/100\n",
      "200/200 - 1s - loss: 0.3334 - accuracy: 0.8645 - val_loss: 0.3451 - val_accuracy: 0.8500 - 651ms/epoch - 3ms/step\n",
      "Epoch 41/100\n",
      "200/200 - 1s - loss: 0.3327 - accuracy: 0.8639 - val_loss: 0.3451 - val_accuracy: 0.8500 - 802ms/epoch - 4ms/step\n",
      "Epoch 42/100\n",
      "200/200 - 1s - loss: 0.3323 - accuracy: 0.8647 - val_loss: 0.3464 - val_accuracy: 0.8469 - 665ms/epoch - 3ms/step\n",
      "Epoch 43/100\n",
      "200/200 - 1s - loss: 0.3321 - accuracy: 0.8628 - val_loss: 0.3449 - val_accuracy: 0.8487 - 592ms/epoch - 3ms/step\n",
      "Epoch 44/100\n",
      "200/200 - 1s - loss: 0.3315 - accuracy: 0.8644 - val_loss: 0.3464 - val_accuracy: 0.8469 - 688ms/epoch - 3ms/step\n",
      "Epoch 45/100\n",
      "200/200 - 1s - loss: 0.3315 - accuracy: 0.8634 - val_loss: 0.3446 - val_accuracy: 0.8462 - 660ms/epoch - 3ms/step\n",
      "Epoch 46/100\n",
      "200/200 - 1s - loss: 0.3310 - accuracy: 0.8644 - val_loss: 0.3450 - val_accuracy: 0.8456 - 685ms/epoch - 3ms/step\n",
      "Epoch 47/100\n",
      "200/200 - 1s - loss: 0.3306 - accuracy: 0.8652 - val_loss: 0.3458 - val_accuracy: 0.8481 - 681ms/epoch - 3ms/step\n",
      "Epoch 48/100\n",
      "200/200 - 1s - loss: 0.3305 - accuracy: 0.8647 - val_loss: 0.3447 - val_accuracy: 0.8481 - 660ms/epoch - 3ms/step\n",
      "Epoch 49/100\n",
      "200/200 - 1s - loss: 0.3296 - accuracy: 0.8644 - val_loss: 0.3453 - val_accuracy: 0.8475 - 703ms/epoch - 4ms/step\n",
      "Epoch 50/100\n",
      "200/200 - 1s - loss: 0.3298 - accuracy: 0.8653 - val_loss: 0.3462 - val_accuracy: 0.8469 - 696ms/epoch - 3ms/step\n",
      "Epoch 51/100\n",
      "200/200 - 1s - loss: 0.3296 - accuracy: 0.8633 - val_loss: 0.3447 - val_accuracy: 0.8469 - 652ms/epoch - 3ms/step\n",
      "Epoch 52/100\n",
      "200/200 - 1s - loss: 0.3289 - accuracy: 0.8637 - val_loss: 0.3446 - val_accuracy: 0.8494 - 724ms/epoch - 4ms/step\n",
      "Epoch 53/100\n",
      "200/200 - 1s - loss: 0.3292 - accuracy: 0.8645 - val_loss: 0.3446 - val_accuracy: 0.8469 - 630ms/epoch - 3ms/step\n",
      "Epoch 54/100\n",
      "200/200 - 1s - loss: 0.3286 - accuracy: 0.8653 - val_loss: 0.3453 - val_accuracy: 0.8475 - 653ms/epoch - 3ms/step\n",
      "Epoch 55/100\n",
      "200/200 - 1s - loss: 0.3283 - accuracy: 0.8652 - val_loss: 0.3469 - val_accuracy: 0.8462 - 686ms/epoch - 3ms/step\n",
      "Epoch 56/100\n",
      "200/200 - 1s - loss: 0.3283 - accuracy: 0.8652 - val_loss: 0.3453 - val_accuracy: 0.8481 - 732ms/epoch - 4ms/step\n",
      "Epoch 57/100\n",
      "200/200 - 1s - loss: 0.3279 - accuracy: 0.8653 - val_loss: 0.3455 - val_accuracy: 0.8444 - 743ms/epoch - 4ms/step\n",
      "Epoch 58/100\n",
      "200/200 - 1s - loss: 0.3284 - accuracy: 0.8658 - val_loss: 0.3453 - val_accuracy: 0.8462 - 704ms/epoch - 4ms/step\n",
      "Epoch 59/100\n",
      "200/200 - 1s - loss: 0.3271 - accuracy: 0.8634 - val_loss: 0.3479 - val_accuracy: 0.8494 - 608ms/epoch - 3ms/step\n",
      "Epoch 60/100\n",
      "200/200 - 1s - loss: 0.3275 - accuracy: 0.8653 - val_loss: 0.3461 - val_accuracy: 0.8431 - 706ms/epoch - 4ms/step\n",
      "Epoch 61/100\n",
      "200/200 - 1s - loss: 0.3270 - accuracy: 0.8672 - val_loss: 0.3473 - val_accuracy: 0.8450 - 705ms/epoch - 4ms/step\n",
      "Epoch 62/100\n",
      "200/200 - 1s - loss: 0.3272 - accuracy: 0.8650 - val_loss: 0.3457 - val_accuracy: 0.8481 - 661ms/epoch - 3ms/step\n",
      "Epoch 63/100\n",
      "200/200 - 1s - loss: 0.3267 - accuracy: 0.8675 - val_loss: 0.3465 - val_accuracy: 0.8487 - 664ms/epoch - 3ms/step\n",
      "Epoch 64/100\n",
      "200/200 - 1s - loss: 0.3269 - accuracy: 0.8677 - val_loss: 0.3470 - val_accuracy: 0.8462 - 669ms/epoch - 3ms/step\n",
      "Epoch 65/100\n",
      "200/200 - 1s - loss: 0.3271 - accuracy: 0.8681 - val_loss: 0.3472 - val_accuracy: 0.8475 - 703ms/epoch - 4ms/step\n",
      "Epoch 66/100\n",
      "200/200 - 1s - loss: 0.3264 - accuracy: 0.8678 - val_loss: 0.3474 - val_accuracy: 0.8438 - 788ms/epoch - 4ms/step\n",
      "Epoch 67/100\n",
      "200/200 - 1s - loss: 0.3269 - accuracy: 0.8672 - val_loss: 0.3471 - val_accuracy: 0.8487 - 709ms/epoch - 4ms/step\n",
      "Epoch 68/100\n",
      "200/200 - 1s - loss: 0.3258 - accuracy: 0.8678 - val_loss: 0.3467 - val_accuracy: 0.8481 - 720ms/epoch - 4ms/step\n",
      "Epoch 69/100\n",
      "200/200 - 1s - loss: 0.3262 - accuracy: 0.8667 - val_loss: 0.3469 - val_accuracy: 0.8475 - 698ms/epoch - 3ms/step\n",
      "Epoch 70/100\n",
      "200/200 - 1s - loss: 0.3257 - accuracy: 0.8669 - val_loss: 0.3477 - val_accuracy: 0.8500 - 712ms/epoch - 4ms/step\n",
      "Epoch 71/100\n",
      "200/200 - 1s - loss: 0.3256 - accuracy: 0.8672 - val_loss: 0.3463 - val_accuracy: 0.8487 - 715ms/epoch - 4ms/step\n",
      "Epoch 72/100\n",
      "200/200 - 1s - loss: 0.3255 - accuracy: 0.8661 - val_loss: 0.3475 - val_accuracy: 0.8481 - 695ms/epoch - 3ms/step\n",
      "Epoch 73/100\n",
      "200/200 - 1s - loss: 0.3257 - accuracy: 0.8675 - val_loss: 0.3467 - val_accuracy: 0.8481 - 688ms/epoch - 3ms/step\n",
      "Epoch 74/100\n",
      "200/200 - 1s - loss: 0.3251 - accuracy: 0.8672 - val_loss: 0.3469 - val_accuracy: 0.8487 - 689ms/epoch - 3ms/step\n",
      "Epoch 75/100\n",
      "200/200 - 1s - loss: 0.3251 - accuracy: 0.8662 - val_loss: 0.3479 - val_accuracy: 0.8481 - 679ms/epoch - 3ms/step\n",
      "Epoch 76/100\n",
      "200/200 - 1s - loss: 0.3253 - accuracy: 0.8673 - val_loss: 0.3457 - val_accuracy: 0.8494 - 678ms/epoch - 3ms/step\n",
      "Epoch 77/100\n",
      "200/200 - 1s - loss: 0.3251 - accuracy: 0.8692 - val_loss: 0.3471 - val_accuracy: 0.8475 - 670ms/epoch - 3ms/step\n",
      "Epoch 78/100\n",
      "200/200 - 1s - loss: 0.3252 - accuracy: 0.8664 - val_loss: 0.3458 - val_accuracy: 0.8487 - 672ms/epoch - 3ms/step\n",
      "Epoch 79/100\n",
      "200/200 - 1s - loss: 0.3248 - accuracy: 0.8661 - val_loss: 0.3476 - val_accuracy: 0.8500 - 706ms/epoch - 4ms/step\n",
      "Epoch 80/100\n",
      "200/200 - 1s - loss: 0.3249 - accuracy: 0.8664 - val_loss: 0.3482 - val_accuracy: 0.8494 - 726ms/epoch - 4ms/step\n",
      "Epoch 81/100\n",
      "200/200 - 1s - loss: 0.3243 - accuracy: 0.8672 - val_loss: 0.3463 - val_accuracy: 0.8456 - 740ms/epoch - 4ms/step\n",
      "Epoch 82/100\n",
      "200/200 - 1s - loss: 0.3244 - accuracy: 0.8695 - val_loss: 0.3470 - val_accuracy: 0.8487 - 598ms/epoch - 3ms/step\n",
      "Epoch 83/100\n",
      "200/200 - 1s - loss: 0.3244 - accuracy: 0.8664 - val_loss: 0.3481 - val_accuracy: 0.8506 - 688ms/epoch - 3ms/step\n",
      "Epoch 84/100\n",
      "200/200 - 1s - loss: 0.3246 - accuracy: 0.8673 - val_loss: 0.3472 - val_accuracy: 0.8506 - 651ms/epoch - 3ms/step\n",
      "Epoch 85/100\n",
      "200/200 - 1s - loss: 0.3236 - accuracy: 0.8673 - val_loss: 0.3461 - val_accuracy: 0.8531 - 650ms/epoch - 3ms/step\n",
      "Epoch 86/100\n",
      "200/200 - 1s - loss: 0.3239 - accuracy: 0.8680 - val_loss: 0.3464 - val_accuracy: 0.8481 - 611ms/epoch - 3ms/step\n",
      "Epoch 87/100\n",
      "200/200 - 1s - loss: 0.3238 - accuracy: 0.8673 - val_loss: 0.3487 - val_accuracy: 0.8494 - 762ms/epoch - 4ms/step\n",
      "Epoch 88/100\n",
      "200/200 - 1s - loss: 0.3236 - accuracy: 0.8687 - val_loss: 0.3499 - val_accuracy: 0.8450 - 689ms/epoch - 3ms/step\n",
      "Epoch 89/100\n",
      "200/200 - 1s - loss: 0.3235 - accuracy: 0.8698 - val_loss: 0.3484 - val_accuracy: 0.8494 - 672ms/epoch - 3ms/step\n",
      "Epoch 90/100\n",
      "200/200 - 1s - loss: 0.3235 - accuracy: 0.8689 - val_loss: 0.3494 - val_accuracy: 0.8462 - 677ms/epoch - 3ms/step\n",
      "Epoch 91/100\n",
      "200/200 - 1s - loss: 0.3234 - accuracy: 0.8678 - val_loss: 0.3479 - val_accuracy: 0.8475 - 657ms/epoch - 3ms/step\n",
      "Epoch 92/100\n",
      "200/200 - 1s - loss: 0.3233 - accuracy: 0.8681 - val_loss: 0.3472 - val_accuracy: 0.8500 - 691ms/epoch - 3ms/step\n",
      "Epoch 93/100\n",
      "200/200 - 1s - loss: 0.3230 - accuracy: 0.8695 - val_loss: 0.3488 - val_accuracy: 0.8462 - 697ms/epoch - 3ms/step\n",
      "Epoch 94/100\n",
      "200/200 - 1s - loss: 0.3233 - accuracy: 0.8691 - val_loss: 0.3474 - val_accuracy: 0.8481 - 659ms/epoch - 3ms/step\n",
      "Epoch 95/100\n",
      "200/200 - 1s - loss: 0.3227 - accuracy: 0.8686 - val_loss: 0.3486 - val_accuracy: 0.8487 - 612ms/epoch - 3ms/step\n",
      "Epoch 96/100\n",
      "200/200 - 1s - loss: 0.3228 - accuracy: 0.8686 - val_loss: 0.3489 - val_accuracy: 0.8487 - 657ms/epoch - 3ms/step\n",
      "Epoch 97/100\n",
      "200/200 - 1s - loss: 0.3223 - accuracy: 0.8689 - val_loss: 0.3489 - val_accuracy: 0.8456 - 713ms/epoch - 4ms/step\n",
      "Epoch 98/100\n",
      "200/200 - 1s - loss: 0.3226 - accuracy: 0.8686 - val_loss: 0.3491 - val_accuracy: 0.8487 - 655ms/epoch - 3ms/step\n",
      "Epoch 99/100\n",
      "200/200 - 1s - loss: 0.3223 - accuracy: 0.8687 - val_loss: 0.3482 - val_accuracy: 0.8506 - 718ms/epoch - 4ms/step\n",
      "Epoch 100/100\n",
      "200/200 - 1s - loss: 0.3222 - accuracy: 0.8702 - val_loss: 0.3478 - val_accuracy: 0.8475 - 690ms/epoch - 3ms/step\n"
     ]
    }
   ],
   "source": [
    "history = model.fit(X_train_scaled , y_train , epochs = 100 , validation_split = 0.2, verbose = 2)"
   ]
  },
  {
   "cell_type": "code",
   "execution_count": 69,
   "id": "d56765f2-8317-4233-808e-45af15ff05c0",
   "metadata": {},
   "outputs": [
    {
     "data": {
      "text/plain": [
       "[array([[-0.41847268,  0.05983656, -0.37385786,  0.01143506,  0.36753783,\n",
       "         -0.13247596,  0.07560342, -0.0121424 ,  0.11760601,  0.38989553,\n",
       "         -0.20880078],\n",
       "        [ 0.59503365,  0.5128095 , -1.0114405 ,  1.0685006 ,  0.37261406,\n",
       "          0.01552984, -0.66681826,  0.2438175 , -0.15177125,  0.29512   ,\n",
       "         -0.1911166 ],\n",
       "        [ 0.15710339, -0.06400262,  0.11619946, -0.01240653, -0.07585599,\n",
       "          0.07092572,  0.08290183, -0.02562194, -0.15368043, -0.48470807,\n",
       "         -0.07174011],\n",
       "        [-0.10962469, -0.02353683, -0.1761424 ,  0.08585536,  0.03841771,\n",
       "          0.81151783,  0.08363315, -0.49656332,  0.6090491 , -0.2134538 ,\n",
       "         -0.62479734],\n",
       "        [-0.45889008,  1.0056412 , -0.09818336,  0.33590734,  0.18540683,\n",
       "          0.8170553 ,  0.17527284, -1.3723673 , -0.41214138, -0.3402598 ,\n",
       "         -0.13564217],\n",
       "        [-0.32799238,  0.17488664,  0.29190272,  0.08758339,  0.19789726,\n",
       "         -0.33293065,  0.09243522,  0.07317638,  0.0586859 , -0.18263324,\n",
       "         -0.24326043],\n",
       "        [ 1.0433264 ,  0.3221308 , -0.16623892, -0.51590496,  1.0002393 ,\n",
       "         -0.0581082 ,  0.04180332, -0.24675827,  0.17954712, -0.8204993 ,\n",
       "         -0.13564391],\n",
       "        [ 0.10645509, -0.0594851 , -0.07159251, -0.04093328,  0.06615172,\n",
       "          0.20653705, -0.06419812,  0.02591428, -0.14045282,  0.00841435,\n",
       "         -0.116875  ],\n",
       "        [-0.26985177, -0.13333564,  0.58535415,  0.19459243,  0.69764477,\n",
       "          0.28939566, -0.6416208 ,  0.30659336,  0.18315859, -0.25973862,\n",
       "         -0.20809636],\n",
       "        [ 0.13612151,  0.16039395, -0.8894026 ,  0.1349569 , -0.01452679,\n",
       "          0.07249203,  0.16492161,  0.01021534,  0.07684159, -0.25532916,\n",
       "          0.36198425],\n",
       "        [-0.06125777, -0.15849508, -0.01125003,  0.16004492,  0.31344244,\n",
       "          0.03318135,  0.1972013 , -0.04496566,  0.11365606, -0.09055898,\n",
       "          0.44764617]], dtype=float32),\n",
       " array([ 0.21451765, -0.37283373,  0.11135601, -0.33472598,  0.08044063,\n",
       "         0.40035263,  0.8043379 ,  0.05878633, -0.5609975 ,  0.28082138,\n",
       "         0.06379243], dtype=float32)]"
      ]
     },
     "execution_count": 69,
     "metadata": {},
     "output_type": "execute_result"
    }
   ],
   "source": [
    "model.layers[0].get_weights()"
   ]
  },
  {
   "cell_type": "code",
   "execution_count": 70,
   "id": "5a7ce2aa-c8bd-46cd-98d2-98b13e22a2ed",
   "metadata": {},
   "outputs": [
    {
     "name": "stdout",
     "output_type": "stream",
     "text": [
      "63/63 [==============================] - 0s 2ms/step\n"
     ]
    }
   ],
   "source": [
    "y_log = model.predict(X_test_scaled)\n",
    "y_pred = np.where(y_log > 0.5 , 1 , 0)"
   ]
  },
  {
   "cell_type": "code",
   "execution_count": 71,
   "id": "be9d9f0b-331d-46d8-b22f-c59d5286f3ef",
   "metadata": {},
   "outputs": [
    {
     "data": {
      "text/plain": [
       "array([[0],\n",
       "       [0],\n",
       "       [0],\n",
       "       ...,\n",
       "       [0],\n",
       "       [0],\n",
       "       [1]])"
      ]
     },
     "execution_count": 71,
     "metadata": {},
     "output_type": "execute_result"
    }
   ],
   "source": [
    "y_pred"
   ]
  },
  {
   "cell_type": "code",
   "execution_count": 73,
   "id": "ed3275f2-e008-4a70-be60-287b8cd38289",
   "metadata": {},
   "outputs": [],
   "source": [
    "from sklearn.metrics import accuracy_score, classification_report"
   ]
  },
  {
   "cell_type": "code",
   "execution_count": 74,
   "id": "fd9c2909-3333-4156-8547-e6fc8c05bc91",
   "metadata": {},
   "outputs": [
    {
     "name": "stdout",
     "output_type": "stream",
     "text": [
      "0.8605\n"
     ]
    }
   ],
   "source": [
    "print(accuracy_score(y_test , y_pred))"
   ]
  },
  {
   "cell_type": "code",
   "execution_count": 75,
   "id": "c070a158-a1bd-40bb-a65f-d1b35b9f8798",
   "metadata": {},
   "outputs": [
    {
     "name": "stdout",
     "output_type": "stream",
     "text": [
      "              precision    recall  f1-score   support\n",
      "\n",
      "           0       0.88      0.96      0.92      1585\n",
      "           1       0.76      0.48      0.59       415\n",
      "\n",
      "    accuracy                           0.86      2000\n",
      "   macro avg       0.82      0.72      0.75      2000\n",
      "weighted avg       0.85      0.86      0.85      2000\n",
      "\n"
     ]
    }
   ],
   "source": [
    "print(classification_report(y_test , y_pred))"
   ]
  },
  {
   "cell_type": "code",
   "execution_count": 76,
   "id": "1c160e55-7371-4273-9a19-2448d15aa6b2",
   "metadata": {},
   "outputs": [],
   "source": [
    "import matplotlib.pyplot as plt"
   ]
  },
  {
   "cell_type": "code",
   "execution_count": 77,
   "id": "7c466229-9504-440b-9268-1fc4cf4d12d1",
   "metadata": {},
   "outputs": [
    {
     "data": {
      "text/plain": [
       "[<matplotlib.lines.Line2D at 0x18ea6494f50>]"
      ]
     },
     "execution_count": 77,
     "metadata": {},
     "output_type": "execute_result"
    },
    {
     "data": {
      "image/png": "[encoded data removed]",
      "text/plain": [
       "<Figure size 640x480 with 1 Axes>"
      ]
     },
     "metadata": {},
     "output_type": "display_data"
    }
   ],
   "source": [
    "plt.plot(history.history['loss'])\n",
    "plt.plot(history.history['val_loss'])"
   ]
  },
  {
   "cell_type": "code",
   "execution_count": 78,
   "id": "d48656b0-46f8-49ba-982b-68015630caf0",
   "metadata": {},
   "outputs": [
    {
     "data": {
      "text/plain": [
       "[<matplotlib.lines.Line2D at 0x18ea5fd2c10>]"
      ]
     },
     "execution_count": 78,
     "metadata": {},
     "output_type": "execute_result"
    },
    {
     "data": {
      "image/png": "[encoded data removed]",
      "text/plain": [
       "<Figure size 640x480 with 1 Axes>"
      ]
     },
     "metadata": {},
     "output_type": "display_data"
    }
   ],
   "source": [
    "plt.plot(history.history['accuracy'])\n",
    "plt.plot(history.history['val_accuracy'])"
   ]
  }
 ],
 "metadata": {
  "kernelspec": {
   "display_name": "Python 3 (ipykernel)",
   "language": "python",
   "name": "python3"
  },
  "language_info": {
   "codemirror_mode": {
    "name": "ipython",
    "version": 3
   },
   "file_extension": ".py",
   "mimetype": "text/x-python",
   "name": "python",
   "nbconvert_exporter": "python",
   "pygments_lexer": "ipython3",
   "version": "3.11.3"
  }
 },
 "nbformat": 4,
 "nbformat_minor": 5
}
