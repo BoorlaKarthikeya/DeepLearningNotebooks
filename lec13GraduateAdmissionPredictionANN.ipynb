{
  "nbformat": 4,
  "nbformat_minor": 0,
  "metadata": {
    "colab": {
      "provenance": []
    },
    "kernelspec": {
      "name": "python3",
      "display_name": "Python 3"
    },
    "language_info": {
      "name": "python"
    }
  },
  "cells": [
    {
      "cell_type": "code",
      "execution_count": 1,
      "metadata": {
        "id": "yt-YH4qWY7tm"
      },
      "outputs": [],
      "source": [
        "import numpy as np\n",
        "import pandas as pd"
      ]
    },
    {
      "cell_type": "code",
      "source": [
        "df = pd.read_csv('Admission_Predict_Ver1.1.csv')"
      ],
      "metadata": {
        "id": "VnG7GTdgZKxJ"
      },
      "execution_count": 2,
      "outputs": []
    },
    {
      "cell_type": "code",
      "source": [
        "df.head()"
      ],
      "metadata": {
        "colab": {
          "base_uri": "https://localhost:8080/",
          "height": 206
        },
        "id": "sgfQBCAIZQTI",
        "outputId": "6baa9b91-1747-4280-d5ce-bb45e4ea256c"
      },
      "execution_count": 3,
      "outputs": [
        {
          "output_type": "execute_result",
          "data": {
            "text/plain": [
              "   Serial No.  GRE Score  TOEFL Score  University Rating  SOP  LOR   CGPA  \\\n",
              "0           1        337          118                  4  4.5   4.5  9.65   \n",
              "1           2        324          107                  4  4.0   4.5  8.87   \n",
              "2           3        316          104                  3  3.0   3.5  8.00   \n",
              "3           4        322          110                  3  3.5   2.5  8.67   \n",
              "4           5        314          103                  2  2.0   3.0  8.21   \n",
              "\n",
              "   Research  Chance of Admit   \n",
              "0         1              0.92  \n",
              "1         1              0.76  \n",
              "2         1              0.72  \n",
              "3         1              0.80  \n",
              "4         0              0.65  "
            ],
            "text/html": [
              "\n",
              "  <div id=\"df-1deb959b-48c9-4be7-8481-bcbcc3616ed6\" class=\"colab-df-container\">\n",
              "    <div>\n",
              "<style scoped>\n",
              "    .dataframe tbody tr th:only-of-type {\n",
              "        vertical-align: middle;\n",
              "    }\n",
              "\n",
              "    .dataframe tbody tr th {\n",
              "        vertical-align: top;\n",
              "    }\n",
              "\n",
              "    .dataframe thead th {\n",
              "        text-align: right;\n",
              "    }\n",
              "</style>\n",
              "<table border=\"1\" class=\"dataframe\">\n",
              "  <thead>\n",
              "    <tr style=\"text-align: right;\">\n",
              "      <th></th>\n",
              "      <th>Serial No.</th>\n",
              "      <th>GRE Score</th>\n",
              "      <th>TOEFL Score</th>\n",
              "      <th>University Rating</th>\n",
              "      <th>SOP</th>\n",
              "      <th>LOR</th>\n",
              "      <th>CGPA</th>\n",
              "      <th>Research</th>\n",
              "      <th>Chance of Admit</th>\n",
              "    </tr>\n",
              "  </thead>\n",
              "  <tbody>\n",
              "    <tr>\n",
              "      <th>0</th>\n",
              "      <td>1</td>\n",
              "      <td>337</td>\n",
              "      <td>118</td>\n",
              "      <td>4</td>\n",
              "      <td>4.5</td>\n",
              "      <td>4.5</td>\n",
              "      <td>9.65</td>\n",
              "      <td>1</td>\n",
              "      <td>0.92</td>\n",
              "    </tr>\n",
              "    <tr>\n",
              "      <th>1</th>\n",
              "      <td>2</td>\n",
              "      <td>324</td>\n",
              "      <td>107</td>\n",
              "      <td>4</td>\n",
              "      <td>4.0</td>\n",
              "      <td>4.5</td>\n",
              "      <td>8.87</td>\n",
              "      <td>1</td>\n",
              "      <td>0.76</td>\n",
              "    </tr>\n",
              "    <tr>\n",
              "      <th>2</th>\n",
              "      <td>3</td>\n",
              "      <td>316</td>\n",
              "      <td>104</td>\n",
              "      <td>3</td>\n",
              "      <td>3.0</td>\n",
              "      <td>3.5</td>\n",
              "      <td>8.00</td>\n",
              "      <td>1</td>\n",
              "      <td>0.72</td>\n",
              "    </tr>\n",
              "    <tr>\n",
              "      <th>3</th>\n",
              "      <td>4</td>\n",
              "      <td>322</td>\n",
              "      <td>110</td>\n",
              "      <td>3</td>\n",
              "      <td>3.5</td>\n",
              "      <td>2.5</td>\n",
              "      <td>8.67</td>\n",
              "      <td>1</td>\n",
              "      <td>0.80</td>\n",
              "    </tr>\n",
              "    <tr>\n",
              "      <th>4</th>\n",
              "      <td>5</td>\n",
              "      <td>314</td>\n",
              "      <td>103</td>\n",
              "      <td>2</td>\n",
              "      <td>2.0</td>\n",
              "      <td>3.0</td>\n",
              "      <td>8.21</td>\n",
              "      <td>0</td>\n",
              "      <td>0.65</td>\n",
              "    </tr>\n",
              "  </tbody>\n",
              "</table>\n",
              "</div>\n",
              "    <div class=\"colab-df-buttons\">\n",
              "\n",
              "  <div class=\"colab-df-container\">\n",
              "    <button class=\"colab-df-convert\" onclick=\"convertToInteractive('df-1deb959b-48c9-4be7-8481-bcbcc3616ed6')\"\n",
              "            title=\"Convert this dataframe to an interactive table.\"\n",
              "            style=\"display:none;\">\n",
              "\n",
              "  <svg xmlns=\"http://www.w3.org/2000/svg\" height=\"24px\" viewBox=\"0 -960 960 960\">\n",
              "    <path d=\"M120-120v-720h720v720H120Zm60-500h600v-160H180v160Zm220 220h160v-160H400v160Zm0 220h160v-160H400v160ZM180-400h160v-160H180v160Zm440 0h160v-160H620v160ZM180-180h160v-160H180v160Zm440 0h160v-160H620v160Z\"/>\n",
              "  </svg>\n",
              "    </button>\n",
              "\n",
              "  <style>\n",
              "    .colab-df-container {\n",
              "      display:flex;\n",
              "      gap: 12px;\n",
              "    }\n",
              "\n",
              "    .colab-df-convert {\n",
              "      background-color: #E8F0FE;\n",
              "      border: none;\n",
              "      border-radius: 50%;\n",
              "      cursor: pointer;\n",
              "      display: none;\n",
              "      fill: #1967D2;\n",
              "      height: 32px;\n",
              "      padding: 0 0 0 0;\n",
              "      width: 32px;\n",
              "    }\n",
              "\n",
              "    .colab-df-convert:hover {\n",
              "      background-color: #E2EBFA;\n",
              "      box-shadow: 0px 1px 2px rgba(60, 64, 67, 0.3), 0px 1px 3px 1px rgba(60, 64, 67, 0.15);\n",
              "      fill: #174EA6;\n",
              "    }\n",
              "\n",
              "    .colab-df-buttons div {\n",
              "      margin-bottom: 4px;\n",
              "    }\n",
              "\n",
              "    [theme=dark] .colab-df-convert {\n",
              "      background-color: #3B4455;\n",
              "      fill: #D2E3FC;\n",
              "    }\n",
              "\n",
              "    [theme=dark] .colab-df-convert:hover {\n",
              "      background-color: #434B5C;\n",
              "      box-shadow: 0px 1px 3px 1px rgba(0, 0, 0, 0.15);\n",
              "      filter: drop-shadow(0px 1px 2px rgba(0, 0, 0, 0.3));\n",
              "      fill: #FFFFFF;\n",
              "    }\n",
              "  </style>\n",
              "\n",
              "    <script>\n",
              "      const buttonEl =\n",
              "        document.querySelector('#df-1deb959b-48c9-4be7-8481-bcbcc3616ed6 button.colab-df-convert');\n",
              "      buttonEl.style.display =\n",
              "        google.colab.kernel.accessAllowed ? 'block' : 'none';\n",
              "\n",
              "      async function convertToInteractive(key) {\n",
              "        const element = document.querySelector('#df-1deb959b-48c9-4be7-8481-bcbcc3616ed6');\n",
              "        const dataTable =\n",
              "          await google.colab.kernel.invokeFunction('convertToInteractive',\n",
              "                                                    [key], {});\n",
              "        if (!dataTable) return;\n",
              "\n",
              "        const docLinkHtml = 'Like what you see? Visit the ' +\n",
              "          '<a target=\"_blank\" href=https://colab.research.google.com/notebooks/data_table.ipynb>data table notebook</a>'\n",
              "          + ' to learn more about interactive tables.';\n",
              "        element.innerHTML = '';\n",
              "        dataTable['output_type'] = 'display_data';\n",
              "        await google.colab.output.renderOutput(dataTable, element);\n",
              "        const docLink = document.createElement('div');\n",
              "        docLink.innerHTML = docLinkHtml;\n",
              "        element.appendChild(docLink);\n",
              "      }\n",
              "    </script>\n",
              "  </div>\n",
              "\n",
              "\n",
              "<div id=\"df-ebea22cc-44a7-42ca-acf7-551de229f95e\">\n",
              "  <button class=\"colab-df-quickchart\" onclick=\"quickchart('df-ebea22cc-44a7-42ca-acf7-551de229f95e')\"\n",
              "            title=\"Suggest charts\"\n",
              "            style=\"display:none;\">\n",
              "\n",
              "<svg xmlns=\"http://www.w3.org/2000/svg\" height=\"24px\"viewBox=\"0 0 24 24\"\n",
              "     width=\"24px\">\n",
              "    <g>\n",
              "        <path d=\"M19 3H5c-1.1 0-2 .9-2 2v14c0 1.1.9 2 2 2h14c1.1 0 2-.9 2-2V5c0-1.1-.9-2-2-2zM9 17H7v-7h2v7zm4 0h-2V7h2v10zm4 0h-2v-4h2v4z\"/>\n",
              "    </g>\n",
              "</svg>\n",
              "  </button>\n",
              "\n",
              "<style>\n",
              "  .colab-df-quickchart {\n",
              "      --bg-color: #E8F0FE;\n",
              "      --fill-color: #1967D2;\n",
              "      --hover-bg-color: #E2EBFA;\n",
              "      --hover-fill-color: #174EA6;\n",
              "      --disabled-fill-color: #AAA;\n",
              "      --disabled-bg-color: #DDD;\n",
              "  }\n",
              "\n",
              "  [theme=dark] .colab-df-quickchart {\n",
              "      --bg-color: #3B4455;\n",
              "      --fill-color: #D2E3FC;\n",
              "      --hover-bg-color: #434B5C;\n",
              "      --hover-fill-color: #FFFFFF;\n",
              "      --disabled-bg-color: #3B4455;\n",
              "      --disabled-fill-color: #666;\n",
              "  }\n",
              "\n",
              "  .colab-df-quickchart {\n",
              "    background-color: var(--bg-color);\n",
              "    border: none;\n",
              "    border-radius: 50%;\n",
              "    cursor: pointer;\n",
              "    display: none;\n",
              "    fill: var(--fill-color);\n",
              "    height: 32px;\n",
              "    padding: 0;\n",
              "    width: 32px;\n",
              "  }\n",
              "\n",
              "  .colab-df-quickchart:hover {\n",
              "    background-color: var(--hover-bg-color);\n",
              "    box-shadow: 0 1px 2px rgba(60, 64, 67, 0.3), 0 1px 3px 1px rgba(60, 64, 67, 0.15);\n",
              "    fill: var(--button-hover-fill-color);\n",
              "  }\n",
              "\n",
              "  .colab-df-quickchart-complete:disabled,\n",
              "  .colab-df-quickchart-complete:disabled:hover {\n",
              "    background-color: var(--disabled-bg-color);\n",
              "    fill: var(--disabled-fill-color);\n",
              "    box-shadow: none;\n",
              "  }\n",
              "\n",
              "  .colab-df-spinner {\n",
              "    border: 2px solid var(--fill-color);\n",
              "    border-color: transparent;\n",
              "    border-bottom-color: var(--fill-color);\n",
              "    animation:\n",
              "      spin 1s steps(1) infinite;\n",
              "  }\n",
              "\n",
              "  @keyframes spin {\n",
              "    0% {\n",
              "      border-color: transparent;\n",
              "      border-bottom-color: var(--fill-color);\n",
              "      border-left-color: var(--fill-color);\n",
              "    }\n",
              "    20% {\n",
              "      border-color: transparent;\n",
              "      border-left-color: var(--fill-color);\n",
              "      border-top-color: var(--fill-color);\n",
              "    }\n",
              "    30% {\n",
              "      border-color: transparent;\n",
              "      border-left-color: var(--fill-color);\n",
              "      border-top-color: var(--fill-color);\n",
              "      border-right-color: var(--fill-color);\n",
              "    }\n",
              "    40% {\n",
              "      border-color: transparent;\n",
              "      border-right-color: var(--fill-color);\n",
              "      border-top-color: var(--fill-color);\n",
              "    }\n",
              "    60% {\n",
              "      border-color: transparent;\n",
              "      border-right-color: var(--fill-color);\n",
              "    }\n",
              "    80% {\n",
              "      border-color: transparent;\n",
              "      border-right-color: var(--fill-color);\n",
              "      border-bottom-color: var(--fill-color);\n",
              "    }\n",
              "    90% {\n",
              "      border-color: transparent;\n",
              "      border-bottom-color: var(--fill-color);\n",
              "    }\n",
              "  }\n",
              "</style>\n",
              "\n",
              "  <script>\n",
              "    async function quickchart(key) {\n",
              "      const quickchartButtonEl =\n",
              "        document.querySelector('#' + key + ' button');\n",
              "      quickchartButtonEl.disabled = true;  // To prevent multiple clicks.\n",
              "      quickchartButtonEl.classList.add('colab-df-spinner');\n",
              "      try {\n",
              "        const charts = await google.colab.kernel.invokeFunction(\n",
              "            'suggestCharts', [key], {});\n",
              "      } catch (error) {\n",
              "        console.error('Error during call to suggestCharts:', error);\n",
              "      }\n",
              "      quickchartButtonEl.classList.remove('colab-df-spinner');\n",
              "      quickchartButtonEl.classList.add('colab-df-quickchart-complete');\n",
              "    }\n",
              "    (() => {\n",
              "      let quickchartButtonEl =\n",
              "        document.querySelector('#df-ebea22cc-44a7-42ca-acf7-551de229f95e button');\n",
              "      quickchartButtonEl.style.display =\n",
              "        google.colab.kernel.accessAllowed ? 'block' : 'none';\n",
              "    })();\n",
              "  </script>\n",
              "</div>\n",
              "\n",
              "    </div>\n",
              "  </div>\n"
            ]
          },
          "metadata": {},
          "execution_count": 3
        }
      ]
    },
    {
      "cell_type": "code",
      "source": [
        "df.drop(columns = ['Serial No.'] , inplace = True)"
      ],
      "metadata": {
        "id": "9BWtRSFYZRMr"
      },
      "execution_count": 4,
      "outputs": []
    },
    {
      "cell_type": "code",
      "source": [
        "X = df.iloc[:,0:-1]\n",
        "y = df.iloc[:, -1]"
      ],
      "metadata": {
        "id": "4sz8qqDfZXoP"
      },
      "execution_count": 6,
      "outputs": []
    },
    {
      "cell_type": "code",
      "source": [
        "from sklearn.model_selection import train_test_split"
      ],
      "metadata": {
        "id": "vuQtDuG8Zbzd"
      },
      "execution_count": 7,
      "outputs": []
    },
    {
      "cell_type": "code",
      "source": [
        "X_train , X_test , y_train , y_test = train_test_split(X,y , train_size = 0.2, random_state=1)"
      ],
      "metadata": {
        "id": "ZLCW5nj3ZnCO"
      },
      "execution_count": 8,
      "outputs": []
    },
    {
      "cell_type": "code",
      "source": [
        "from sklearn.preprocessing import MinMaxScaler"
      ],
      "metadata": {
        "id": "WVjfLXfHZzlb"
      },
      "execution_count": 9,
      "outputs": []
    },
    {
      "cell_type": "code",
      "source": [
        "scaler = MinMaxScaler()\n",
        "X_train_scaled = scaler.fit_transform(X_train)\n",
        "X_test_scaled = scaler.transform(X_test)\n",
        "X_train_scaled.shape"
      ],
      "metadata": {
        "colab": {
          "base_uri": "https://localhost:8080/"
        },
        "id": "DZUUvtcmZ5ME",
        "outputId": "0434d5e7-0083-46ef-becb-86b991ce06fa"
      },
      "execution_count": 14,
      "outputs": [
        {
          "output_type": "execute_result",
          "data": {
            "text/plain": [
              "(100, 7)"
            ]
          },
          "metadata": {},
          "execution_count": 14
        }
      ]
    },
    {
      "cell_type": "code",
      "source": [
        "import tensorflow\n",
        "from tensorflow import keras\n",
        "from keras import Sequential\n",
        "from keras.layers import Dense"
      ],
      "metadata": {
        "id": "AnHCJ1ScZ6d5"
      },
      "execution_count": 12,
      "outputs": []
    },
    {
      "cell_type": "code",
      "source": [
        "model = Sequential()\n",
        "model.add(Dense(14,activation = 'relu' , input_dim = 7))\n",
        "model.add(Dense(7,activation = 'relu'))\n",
        "model.add(Dense(1,activation = 'linear'))\n",
        "model.summary()"
      ],
      "metadata": {
        "colab": {
          "base_uri": "https://localhost:8080/"
        },
        "id": "G6npaKY2aSy-",
        "outputId": "c672ee14-248e-4a93-e946-6270ec06e707"
      },
      "execution_count": 15,
      "outputs": [
        {
          "output_type": "stream",
          "name": "stdout",
          "text": [
            "Model: \"sequential_1\"\n",
            "_________________________________________________________________\n",
            " Layer (type)                Output Shape              Param #   \n",
            "=================================================================\n",
            " dense (Dense)               (None, 14)                112       \n",
            "                                                                 \n",
            " dense_1 (Dense)             (None, 7)                 105       \n",
            "                                                                 \n",
            " dense_2 (Dense)             (None, 1)                 8         \n",
            "                                                                 \n",
            "=================================================================\n",
            "Total params: 225 (900.00 Byte)\n",
            "Trainable params: 225 (900.00 Byte)\n",
            "Non-trainable params: 0 (0.00 Byte)\n",
            "_________________________________________________________________\n"
          ]
        }
      ]
    },
    {
      "cell_type": "code",
      "source": [
        "model.compile(loss = 'mean_squared_error' , optimizer = 'Adam' , metrics = ['accuracy'])\n",
        "history = model.fit(X_train_scaled , y_train , epochs = 100  , verbose = 2 , validation_split = 0.2)"
      ],
      "metadata": {
        "colab": {
          "base_uri": "https://localhost:8080/"
        },
        "id": "zKZh6aRaaUgj",
        "outputId": "811eb29a-06f8-4e65-8b8a-efd5996b640b"
      },
      "execution_count": 26,
      "outputs": [
        {
          "output_type": "stream",
          "name": "stdout",
          "text": [
            "Epoch 1/100\n",
            "3/3 - 1s - loss: 0.0312 - accuracy: 0.0000e+00 - val_loss: 0.0220 - val_accuracy: 0.0000e+00 - 1s/epoch - 404ms/step\n",
            "Epoch 2/100\n",
            "3/3 - 0s - loss: 0.0290 - accuracy: 0.0000e+00 - val_loss: 0.0213 - val_accuracy: 0.0000e+00 - 76ms/epoch - 25ms/step\n",
            "Epoch 3/100\n",
            "3/3 - 0s - loss: 0.0271 - accuracy: 0.0000e+00 - val_loss: 0.0203 - val_accuracy: 0.0000e+00 - 58ms/epoch - 19ms/step\n",
            "Epoch 4/100\n",
            "3/3 - 0s - loss: 0.0255 - accuracy: 0.0000e+00 - val_loss: 0.0191 - val_accuracy: 0.0000e+00 - 71ms/epoch - 24ms/step\n",
            "Epoch 5/100\n",
            "3/3 - 0s - loss: 0.0237 - accuracy: 0.0000e+00 - val_loss: 0.0180 - val_accuracy: 0.0000e+00 - 72ms/epoch - 24ms/step\n",
            "Epoch 6/100\n",
            "3/3 - 0s - loss: 0.0219 - accuracy: 0.0000e+00 - val_loss: 0.0168 - val_accuracy: 0.0000e+00 - 73ms/epoch - 24ms/step\n",
            "Epoch 7/100\n",
            "3/3 - 0s - loss: 0.0203 - accuracy: 0.0000e+00 - val_loss: 0.0156 - val_accuracy: 0.0000e+00 - 69ms/epoch - 23ms/step\n",
            "Epoch 8/100\n",
            "3/3 - 0s - loss: 0.0185 - accuracy: 0.0000e+00 - val_loss: 0.0145 - val_accuracy: 0.0000e+00 - 76ms/epoch - 25ms/step\n",
            "Epoch 9/100\n",
            "3/3 - 0s - loss: 0.0169 - accuracy: 0.0000e+00 - val_loss: 0.0137 - val_accuracy: 0.0000e+00 - 74ms/epoch - 25ms/step\n",
            "Epoch 10/100\n",
            "3/3 - 0s - loss: 0.0155 - accuracy: 0.0000e+00 - val_loss: 0.0126 - val_accuracy: 0.0000e+00 - 71ms/epoch - 24ms/step\n",
            "Epoch 11/100\n",
            "3/3 - 0s - loss: 0.0142 - accuracy: 0.0000e+00 - val_loss: 0.0114 - val_accuracy: 0.0000e+00 - 70ms/epoch - 23ms/step\n",
            "Epoch 12/100\n",
            "3/3 - 0s - loss: 0.0130 - accuracy: 0.0000e+00 - val_loss: 0.0104 - val_accuracy: 0.0000e+00 - 51ms/epoch - 17ms/step\n",
            "Epoch 13/100\n",
            "3/3 - 0s - loss: 0.0119 - accuracy: 0.0000e+00 - val_loss: 0.0094 - val_accuracy: 0.0000e+00 - 68ms/epoch - 23ms/step\n",
            "Epoch 14/100\n",
            "3/3 - 0s - loss: 0.0109 - accuracy: 0.0000e+00 - val_loss: 0.0084 - val_accuracy: 0.0000e+00 - 47ms/epoch - 16ms/step\n",
            "Epoch 15/100\n",
            "3/3 - 0s - loss: 0.0100 - accuracy: 0.0000e+00 - val_loss: 0.0076 - val_accuracy: 0.0000e+00 - 71ms/epoch - 24ms/step\n",
            "Epoch 16/100\n",
            "3/3 - 0s - loss: 0.0093 - accuracy: 0.0000e+00 - val_loss: 0.0069 - val_accuracy: 0.0000e+00 - 52ms/epoch - 17ms/step\n",
            "Epoch 17/100\n",
            "3/3 - 0s - loss: 0.0085 - accuracy: 0.0000e+00 - val_loss: 0.0064 - val_accuracy: 0.0000e+00 - 73ms/epoch - 24ms/step\n",
            "Epoch 18/100\n",
            "3/3 - 0s - loss: 0.0080 - accuracy: 0.0000e+00 - val_loss: 0.0060 - val_accuracy: 0.0000e+00 - 54ms/epoch - 18ms/step\n",
            "Epoch 19/100\n",
            "3/3 - 0s - loss: 0.0075 - accuracy: 0.0000e+00 - val_loss: 0.0055 - val_accuracy: 0.0000e+00 - 89ms/epoch - 30ms/step\n",
            "Epoch 20/100\n",
            "3/3 - 0s - loss: 0.0070 - accuracy: 0.0000e+00 - val_loss: 0.0051 - val_accuracy: 0.0000e+00 - 53ms/epoch - 18ms/step\n",
            "Epoch 21/100\n",
            "3/3 - 0s - loss: 0.0067 - accuracy: 0.0000e+00 - val_loss: 0.0047 - val_accuracy: 0.0000e+00 - 67ms/epoch - 22ms/step\n",
            "Epoch 22/100\n",
            "3/3 - 0s - loss: 0.0064 - accuracy: 0.0000e+00 - val_loss: 0.0044 - val_accuracy: 0.0000e+00 - 50ms/epoch - 17ms/step\n",
            "Epoch 23/100\n",
            "3/3 - 0s - loss: 0.0061 - accuracy: 0.0000e+00 - val_loss: 0.0043 - val_accuracy: 0.0000e+00 - 52ms/epoch - 17ms/step\n",
            "Epoch 24/100\n",
            "3/3 - 0s - loss: 0.0059 - accuracy: 0.0000e+00 - val_loss: 0.0041 - val_accuracy: 0.0000e+00 - 56ms/epoch - 19ms/step\n",
            "Epoch 25/100\n",
            "3/3 - 0s - loss: 0.0056 - accuracy: 0.0000e+00 - val_loss: 0.0039 - val_accuracy: 0.0000e+00 - 55ms/epoch - 18ms/step\n",
            "Epoch 26/100\n",
            "3/3 - 0s - loss: 0.0055 - accuracy: 0.0000e+00 - val_loss: 0.0038 - val_accuracy: 0.0000e+00 - 63ms/epoch - 21ms/step\n",
            "Epoch 27/100\n",
            "3/3 - 0s - loss: 0.0053 - accuracy: 0.0000e+00 - val_loss: 0.0037 - val_accuracy: 0.0000e+00 - 61ms/epoch - 20ms/step\n",
            "Epoch 28/100\n",
            "3/3 - 0s - loss: 0.0052 - accuracy: 0.0000e+00 - val_loss: 0.0036 - val_accuracy: 0.0000e+00 - 52ms/epoch - 17ms/step\n",
            "Epoch 29/100\n",
            "3/3 - 0s - loss: 0.0051 - accuracy: 0.0000e+00 - val_loss: 0.0035 - val_accuracy: 0.0000e+00 - 75ms/epoch - 25ms/step\n",
            "Epoch 30/100\n",
            "3/3 - 0s - loss: 0.0050 - accuracy: 0.0000e+00 - val_loss: 0.0034 - val_accuracy: 0.0000e+00 - 59ms/epoch - 20ms/step\n",
            "Epoch 31/100\n",
            "3/3 - 0s - loss: 0.0049 - accuracy: 0.0000e+00 - val_loss: 0.0033 - val_accuracy: 0.0000e+00 - 70ms/epoch - 23ms/step\n",
            "Epoch 32/100\n",
            "3/3 - 0s - loss: 0.0048 - accuracy: 0.0000e+00 - val_loss: 0.0033 - val_accuracy: 0.0000e+00 - 70ms/epoch - 23ms/step\n",
            "Epoch 33/100\n",
            "3/3 - 0s - loss: 0.0048 - accuracy: 0.0000e+00 - val_loss: 0.0033 - val_accuracy: 0.0000e+00 - 57ms/epoch - 19ms/step\n",
            "Epoch 34/100\n",
            "3/3 - 0s - loss: 0.0047 - accuracy: 0.0000e+00 - val_loss: 0.0032 - val_accuracy: 0.0000e+00 - 70ms/epoch - 23ms/step\n",
            "Epoch 35/100\n",
            "3/3 - 0s - loss: 0.0046 - accuracy: 0.0000e+00 - val_loss: 0.0031 - val_accuracy: 0.0000e+00 - 75ms/epoch - 25ms/step\n",
            "Epoch 36/100\n",
            "3/3 - 0s - loss: 0.0045 - accuracy: 0.0000e+00 - val_loss: 0.0030 - val_accuracy: 0.0000e+00 - 71ms/epoch - 24ms/step\n",
            "Epoch 37/100\n",
            "3/3 - 0s - loss: 0.0045 - accuracy: 0.0000e+00 - val_loss: 0.0029 - val_accuracy: 0.0000e+00 - 75ms/epoch - 25ms/step\n",
            "Epoch 38/100\n",
            "3/3 - 0s - loss: 0.0045 - accuracy: 0.0000e+00 - val_loss: 0.0029 - val_accuracy: 0.0000e+00 - 38ms/epoch - 13ms/step\n",
            "Epoch 39/100\n",
            "3/3 - 0s - loss: 0.0044 - accuracy: 0.0000e+00 - val_loss: 0.0029 - val_accuracy: 0.0000e+00 - 54ms/epoch - 18ms/step\n",
            "Epoch 40/100\n",
            "3/3 - 0s - loss: 0.0044 - accuracy: 0.0000e+00 - val_loss: 0.0029 - val_accuracy: 0.0000e+00 - 36ms/epoch - 12ms/step\n",
            "Epoch 41/100\n",
            "3/3 - 0s - loss: 0.0043 - accuracy: 0.0000e+00 - val_loss: 0.0028 - val_accuracy: 0.0000e+00 - 36ms/epoch - 12ms/step\n",
            "Epoch 42/100\n",
            "3/3 - 0s - loss: 0.0043 - accuracy: 0.0000e+00 - val_loss: 0.0028 - val_accuracy: 0.0000e+00 - 41ms/epoch - 14ms/step\n",
            "Epoch 43/100\n",
            "3/3 - 0s - loss: 0.0042 - accuracy: 0.0000e+00 - val_loss: 0.0027 - val_accuracy: 0.0000e+00 - 35ms/epoch - 12ms/step\n",
            "Epoch 44/100\n",
            "3/3 - 0s - loss: 0.0042 - accuracy: 0.0000e+00 - val_loss: 0.0027 - val_accuracy: 0.0000e+00 - 38ms/epoch - 13ms/step\n",
            "Epoch 45/100\n",
            "3/3 - 0s - loss: 0.0042 - accuracy: 0.0000e+00 - val_loss: 0.0026 - val_accuracy: 0.0000e+00 - 37ms/epoch - 12ms/step\n",
            "Epoch 46/100\n",
            "3/3 - 0s - loss: 0.0042 - accuracy: 0.0000e+00 - val_loss: 0.0025 - val_accuracy: 0.0000e+00 - 37ms/epoch - 12ms/step\n",
            "Epoch 47/100\n",
            "3/3 - 0s - loss: 0.0041 - accuracy: 0.0000e+00 - val_loss: 0.0026 - val_accuracy: 0.0000e+00 - 38ms/epoch - 13ms/step\n",
            "Epoch 48/100\n",
            "3/3 - 0s - loss: 0.0041 - accuracy: 0.0000e+00 - val_loss: 0.0026 - val_accuracy: 0.0000e+00 - 38ms/epoch - 13ms/step\n",
            "Epoch 49/100\n",
            "3/3 - 0s - loss: 0.0041 - accuracy: 0.0000e+00 - val_loss: 0.0025 - val_accuracy: 0.0000e+00 - 39ms/epoch - 13ms/step\n",
            "Epoch 50/100\n",
            "3/3 - 0s - loss: 0.0041 - accuracy: 0.0000e+00 - val_loss: 0.0024 - val_accuracy: 0.0000e+00 - 49ms/epoch - 16ms/step\n",
            "Epoch 51/100\n",
            "3/3 - 0s - loss: 0.0040 - accuracy: 0.0000e+00 - val_loss: 0.0024 - val_accuracy: 0.0000e+00 - 59ms/epoch - 20ms/step\n",
            "Epoch 52/100\n",
            "3/3 - 0s - loss: 0.0040 - accuracy: 0.0000e+00 - val_loss: 0.0024 - val_accuracy: 0.0000e+00 - 54ms/epoch - 18ms/step\n",
            "Epoch 53/100\n",
            "3/3 - 0s - loss: 0.0040 - accuracy: 0.0000e+00 - val_loss: 0.0023 - val_accuracy: 0.0000e+00 - 55ms/epoch - 18ms/step\n",
            "Epoch 54/100\n",
            "3/3 - 0s - loss: 0.0040 - accuracy: 0.0000e+00 - val_loss: 0.0023 - val_accuracy: 0.0000e+00 - 38ms/epoch - 13ms/step\n",
            "Epoch 55/100\n",
            "3/3 - 0s - loss: 0.0040 - accuracy: 0.0000e+00 - val_loss: 0.0024 - val_accuracy: 0.0000e+00 - 54ms/epoch - 18ms/step\n",
            "Epoch 56/100\n",
            "3/3 - 0s - loss: 0.0040 - accuracy: 0.0000e+00 - val_loss: 0.0023 - val_accuracy: 0.0000e+00 - 55ms/epoch - 18ms/step\n",
            "Epoch 57/100\n",
            "3/3 - 0s - loss: 0.0039 - accuracy: 0.0000e+00 - val_loss: 0.0023 - val_accuracy: 0.0000e+00 - 39ms/epoch - 13ms/step\n",
            "Epoch 58/100\n",
            "3/3 - 0s - loss: 0.0039 - accuracy: 0.0000e+00 - val_loss: 0.0022 - val_accuracy: 0.0000e+00 - 60ms/epoch - 20ms/step\n",
            "Epoch 59/100\n",
            "3/3 - 0s - loss: 0.0039 - accuracy: 0.0000e+00 - val_loss: 0.0022 - val_accuracy: 0.0000e+00 - 38ms/epoch - 13ms/step\n",
            "Epoch 60/100\n",
            "3/3 - 0s - loss: 0.0039 - accuracy: 0.0000e+00 - val_loss: 0.0022 - val_accuracy: 0.0000e+00 - 37ms/epoch - 12ms/step\n",
            "Epoch 61/100\n",
            "3/3 - 0s - loss: 0.0039 - accuracy: 0.0000e+00 - val_loss: 0.0022 - val_accuracy: 0.0000e+00 - 36ms/epoch - 12ms/step\n",
            "Epoch 62/100\n",
            "3/3 - 0s - loss: 0.0038 - accuracy: 0.0000e+00 - val_loss: 0.0021 - val_accuracy: 0.0000e+00 - 36ms/epoch - 12ms/step\n",
            "Epoch 63/100\n",
            "3/3 - 0s - loss: 0.0038 - accuracy: 0.0000e+00 - val_loss: 0.0020 - val_accuracy: 0.0000e+00 - 36ms/epoch - 12ms/step\n",
            "Epoch 64/100\n",
            "3/3 - 0s - loss: 0.0038 - accuracy: 0.0000e+00 - val_loss: 0.0020 - val_accuracy: 0.0000e+00 - 35ms/epoch - 12ms/step\n",
            "Epoch 65/100\n",
            "3/3 - 0s - loss: 0.0038 - accuracy: 0.0000e+00 - val_loss: 0.0020 - val_accuracy: 0.0000e+00 - 38ms/epoch - 13ms/step\n",
            "Epoch 66/100\n",
            "3/3 - 0s - loss: 0.0038 - accuracy: 0.0000e+00 - val_loss: 0.0020 - val_accuracy: 0.0000e+00 - 53ms/epoch - 18ms/step\n",
            "Epoch 67/100\n",
            "3/3 - 0s - loss: 0.0038 - accuracy: 0.0000e+00 - val_loss: 0.0021 - val_accuracy: 0.0000e+00 - 44ms/epoch - 15ms/step\n",
            "Epoch 68/100\n",
            "3/3 - 0s - loss: 0.0037 - accuracy: 0.0000e+00 - val_loss: 0.0021 - val_accuracy: 0.0000e+00 - 39ms/epoch - 13ms/step\n",
            "Epoch 69/100\n",
            "3/3 - 0s - loss: 0.0037 - accuracy: 0.0000e+00 - val_loss: 0.0020 - val_accuracy: 0.0000e+00 - 38ms/epoch - 13ms/step\n",
            "Epoch 70/100\n",
            "3/3 - 0s - loss: 0.0037 - accuracy: 0.0000e+00 - val_loss: 0.0020 - val_accuracy: 0.0000e+00 - 59ms/epoch - 20ms/step\n",
            "Epoch 71/100\n",
            "3/3 - 0s - loss: 0.0037 - accuracy: 0.0000e+00 - val_loss: 0.0020 - val_accuracy: 0.0000e+00 - 42ms/epoch - 14ms/step\n",
            "Epoch 72/100\n",
            "3/3 - 0s - loss: 0.0037 - accuracy: 0.0000e+00 - val_loss: 0.0020 - val_accuracy: 0.0000e+00 - 41ms/epoch - 14ms/step\n",
            "Epoch 73/100\n",
            "3/3 - 0s - loss: 0.0037 - accuracy: 0.0000e+00 - val_loss: 0.0020 - val_accuracy: 0.0000e+00 - 55ms/epoch - 18ms/step\n",
            "Epoch 74/100\n",
            "3/3 - 0s - loss: 0.0036 - accuracy: 0.0000e+00 - val_loss: 0.0020 - val_accuracy: 0.0000e+00 - 36ms/epoch - 12ms/step\n",
            "Epoch 75/100\n",
            "3/3 - 0s - loss: 0.0036 - accuracy: 0.0000e+00 - val_loss: 0.0019 - val_accuracy: 0.0000e+00 - 54ms/epoch - 18ms/step\n",
            "Epoch 76/100\n",
            "3/3 - 0s - loss: 0.0036 - accuracy: 0.0000e+00 - val_loss: 0.0019 - val_accuracy: 0.0000e+00 - 37ms/epoch - 12ms/step\n",
            "Epoch 77/100\n",
            "3/3 - 0s - loss: 0.0036 - accuracy: 0.0000e+00 - val_loss: 0.0020 - val_accuracy: 0.0000e+00 - 40ms/epoch - 13ms/step\n",
            "Epoch 78/100\n",
            "3/3 - 0s - loss: 0.0036 - accuracy: 0.0000e+00 - val_loss: 0.0019 - val_accuracy: 0.0000e+00 - 58ms/epoch - 19ms/step\n",
            "Epoch 79/100\n",
            "3/3 - 0s - loss: 0.0036 - accuracy: 0.0000e+00 - val_loss: 0.0019 - val_accuracy: 0.0000e+00 - 39ms/epoch - 13ms/step\n",
            "Epoch 80/100\n",
            "3/3 - 0s - loss: 0.0036 - accuracy: 0.0000e+00 - val_loss: 0.0019 - val_accuracy: 0.0000e+00 - 56ms/epoch - 19ms/step\n",
            "Epoch 81/100\n",
            "3/3 - 0s - loss: 0.0036 - accuracy: 0.0000e+00 - val_loss: 0.0019 - val_accuracy: 0.0000e+00 - 57ms/epoch - 19ms/step\n",
            "Epoch 82/100\n",
            "3/3 - 0s - loss: 0.0036 - accuracy: 0.0000e+00 - val_loss: 0.0019 - val_accuracy: 0.0000e+00 - 36ms/epoch - 12ms/step\n",
            "Epoch 83/100\n",
            "3/3 - 0s - loss: 0.0036 - accuracy: 0.0000e+00 - val_loss: 0.0019 - val_accuracy: 0.0000e+00 - 44ms/epoch - 15ms/step\n",
            "Epoch 84/100\n",
            "3/3 - 0s - loss: 0.0035 - accuracy: 0.0000e+00 - val_loss: 0.0019 - val_accuracy: 0.0000e+00 - 37ms/epoch - 12ms/step\n",
            "Epoch 85/100\n",
            "3/3 - 0s - loss: 0.0036 - accuracy: 0.0000e+00 - val_loss: 0.0021 - val_accuracy: 0.0000e+00 - 59ms/epoch - 20ms/step\n",
            "Epoch 86/100\n",
            "3/3 - 0s - loss: 0.0035 - accuracy: 0.0000e+00 - val_loss: 0.0020 - val_accuracy: 0.0000e+00 - 55ms/epoch - 18ms/step\n",
            "Epoch 87/100\n",
            "3/3 - 0s - loss: 0.0035 - accuracy: 0.0000e+00 - val_loss: 0.0020 - val_accuracy: 0.0000e+00 - 60ms/epoch - 20ms/step\n",
            "Epoch 88/100\n",
            "3/3 - 0s - loss: 0.0035 - accuracy: 0.0000e+00 - val_loss: 0.0019 - val_accuracy: 0.0000e+00 - 38ms/epoch - 13ms/step\n",
            "Epoch 89/100\n",
            "3/3 - 0s - loss: 0.0035 - accuracy: 0.0000e+00 - val_loss: 0.0019 - val_accuracy: 0.0000e+00 - 62ms/epoch - 21ms/step\n",
            "Epoch 90/100\n",
            "3/3 - 0s - loss: 0.0035 - accuracy: 0.0000e+00 - val_loss: 0.0018 - val_accuracy: 0.0000e+00 - 57ms/epoch - 19ms/step\n",
            "Epoch 91/100\n",
            "3/3 - 0s - loss: 0.0035 - accuracy: 0.0000e+00 - val_loss: 0.0018 - val_accuracy: 0.0000e+00 - 37ms/epoch - 12ms/step\n",
            "Epoch 92/100\n",
            "3/3 - 0s - loss: 0.0034 - accuracy: 0.0000e+00 - val_loss: 0.0019 - val_accuracy: 0.0000e+00 - 56ms/epoch - 19ms/step\n",
            "Epoch 93/100\n",
            "3/3 - 0s - loss: 0.0034 - accuracy: 0.0000e+00 - val_loss: 0.0021 - val_accuracy: 0.0000e+00 - 56ms/epoch - 19ms/step\n",
            "Epoch 94/100\n",
            "3/3 - 0s - loss: 0.0035 - accuracy: 0.0000e+00 - val_loss: 0.0021 - val_accuracy: 0.0000e+00 - 38ms/epoch - 13ms/step\n",
            "Epoch 95/100\n",
            "3/3 - 0s - loss: 0.0035 - accuracy: 0.0000e+00 - val_loss: 0.0019 - val_accuracy: 0.0000e+00 - 42ms/epoch - 14ms/step\n",
            "Epoch 96/100\n",
            "3/3 - 0s - loss: 0.0034 - accuracy: 0.0000e+00 - val_loss: 0.0019 - val_accuracy: 0.0000e+00 - 38ms/epoch - 13ms/step\n",
            "Epoch 97/100\n",
            "3/3 - 0s - loss: 0.0034 - accuracy: 0.0000e+00 - val_loss: 0.0019 - val_accuracy: 0.0000e+00 - 38ms/epoch - 13ms/step\n",
            "Epoch 98/100\n",
            "3/3 - 0s - loss: 0.0034 - accuracy: 0.0000e+00 - val_loss: 0.0018 - val_accuracy: 0.0000e+00 - 42ms/epoch - 14ms/step\n",
            "Epoch 99/100\n",
            "3/3 - 0s - loss: 0.0034 - accuracy: 0.0000e+00 - val_loss: 0.0019 - val_accuracy: 0.0000e+00 - 43ms/epoch - 14ms/step\n",
            "Epoch 100/100\n",
            "3/3 - 0s - loss: 0.0034 - accuracy: 0.0000e+00 - val_loss: 0.0019 - val_accuracy: 0.0000e+00 - 57ms/epoch - 19ms/step\n"
          ]
        }
      ]
    },
    {
      "cell_type": "code",
      "source": [
        "y_pred = model.predict(X_test_scaled)\n",
        "# y_pred"
      ],
      "metadata": {
        "colab": {
          "base_uri": "https://localhost:8080/"
        },
        "id": "dFP3yjv6bJ_0",
        "outputId": "7c199a92-1da6-4fa6-bee0-645f8db73615"
      },
      "execution_count": 27,
      "outputs": [
        {
          "output_type": "stream",
          "name": "stdout",
          "text": [
            "13/13 [==============================] - 0s 2ms/step\n"
          ]
        }
      ]
    },
    {
      "cell_type": "code",
      "source": [
        "from sklearn.metrics import r2_score"
      ],
      "metadata": {
        "id": "912NgEwZbXpK"
      },
      "execution_count": 28,
      "outputs": []
    },
    {
      "cell_type": "code",
      "source": [
        "r2_score(y_test , y_pred)"
      ],
      "metadata": {
        "colab": {
          "base_uri": "https://localhost:8080/"
        },
        "id": "pe4xSZO-bbpK",
        "outputId": "b5b00a5b-902d-4725-cf10-7530f15e4792"
      },
      "execution_count": 29,
      "outputs": [
        {
          "output_type": "execute_result",
          "data": {
            "text/plain": [
              "0.7511488780809792"
            ]
          },
          "metadata": {},
          "execution_count": 29
        }
      ]
    },
    {
      "cell_type": "code",
      "source": [
        "import matplotlib.pyplot as plt"
      ],
      "metadata": {
        "id": "JqJkGQc6bfUR"
      },
      "execution_count": 30,
      "outputs": []
    },
    {
      "cell_type": "code",
      "source": [
        "plt.plot(history.history['loss'] )\n",
        "plt.plot(history.history['val_loss'])\n",
        "plt.legend(['loss' , 'val_loss'])\n",
        "\n",
        "plt.xlabel('Epochs')\n",
        "plt.ylabel('Loss')\n",
        "plt.title('Training and Validation Loss over Epochs')\n",
        "\n",
        "plt.show()"
      ],
      "metadata": {
        "colab": {
          "base_uri": "https://localhost:8080/",
          "height": 472
        },
        "id": "t5PdUueCbm1q",
        "outputId": "8387a7fe-1131-4922-8c88-87ee8302bf2c"
      },
      "execution_count": 31,
      "outputs": [
        {
          "output_type": "display_data",
          "data": {
            "text/plain": [
              "<Figure size 640x480 with 1 Axes>"
            ],
            "image/png": "[encoded data removed]"
          },
          "metadata": {}
        }
      ]
    },
    {
      "cell_type": "code",
      "source": [
        "plt.plot(history.history['accuracy'])\n",
        "plt.plot(history.history['val_accuracy'])\n",
        "plt.legend(['accuracy' , 'val_accuracy'])\n",
        "\n",
        "# Add labels and title\n",
        "plt.xlabel('Epochs')\n",
        "plt.ylabel('Loss')\n",
        "plt.title('Training and Validation Loss over Epochs')\n",
        "plt.ylim(-0.1,0.1,1000)\n",
        "plt.show()"
      ],
      "metadata": {
        "colab": {
          "base_uri": "https://localhost:8080/",
          "height": 527
        },
        "id": "ZiQWNqdfb_KO",
        "outputId": "a1a0212a-0047-49b3-d41f-25aaad7f3d16"
      },
      "execution_count": 38,
      "outputs": [
        {
          "output_type": "stream",
          "name": "stderr",
          "text": [
            "<ipython-input-38-1df5c5599abf>:9: MatplotlibDeprecationWarning: Passing the emit parameter of set_ylim() positionally is deprecated since Matplotlib 3.6; the parameter will become keyword-only two minor releases later.\n",
            "  plt.ylim(-0.1,0.1,1000)\n"
          ]
        },
        {
          "output_type": "display_data",
          "data": {
            "text/plain": [
              "<Figure size 640x480 with 1 Axes>"
            ],
            "image/png": "[encoded data removed]"
          },
          "metadata": {}
        }
      ]
    },
    {
      "cell_type": "code",
      "source": [
        "history.history['accuracy']"
      ],
      "metadata": {
        "colab": {
          "base_uri": "https://localhost:8080/"
        },
        "id": "7dTcIgiDcAxa",
        "outputId": "a91976d0-df28-4264-adc9-48e370d1c2b5"
      },
      "execution_count": 37,
      "outputs": [
        {
          "output_type": "execute_result",
          "data": {
            "text/plain": [
              "[0.0,\n",
              " 0.0,\n",
              " 0.0,\n",
              " 0.0,\n",
              " 0.0,\n",
              " 0.0,\n",
              " 0.0,\n",
              " 0.0,\n",
              " 0.0,\n",
              " 0.0,\n",
              " 0.0,\n",
              " 0.0,\n",
              " 0.0,\n",
              " 0.0,\n",
              " 0.0,\n",
              " 0.0,\n",
              " 0.0,\n",
              " 0.0,\n",
              " 0.0,\n",
              " 0.0,\n",
              " 0.0,\n",
              " 0.0,\n",
              " 0.0,\n",
              " 0.0,\n",
              " 0.0,\n",
              " 0.0,\n",
              " 0.0,\n",
              " 0.0,\n",
              " 0.0,\n",
              " 0.0,\n",
              " 0.0,\n",
              " 0.0,\n",
              " 0.0,\n",
              " 0.0,\n",
              " 0.0,\n",
              " 0.0,\n",
              " 0.0,\n",
              " 0.0,\n",
              " 0.0,\n",
              " 0.0,\n",
              " 0.0,\n",
              " 0.0,\n",
              " 0.0,\n",
              " 0.0,\n",
              " 0.0,\n",
              " 0.0,\n",
              " 0.0,\n",
              " 0.0,\n",
              " 0.0,\n",
              " 0.0,\n",
              " 0.0,\n",
              " 0.0,\n",
              " 0.0,\n",
              " 0.0,\n",
              " 0.0,\n",
              " 0.0,\n",
              " 0.0,\n",
              " 0.0,\n",
              " 0.0,\n",
              " 0.0,\n",
              " 0.0,\n",
              " 0.0,\n",
              " 0.0,\n",
              " 0.0,\n",
              " 0.0,\n",
              " 0.0,\n",
              " 0.0,\n",
              " 0.0,\n",
              " 0.0,\n",
              " 0.0,\n",
              " 0.0,\n",
              " 0.0,\n",
              " 0.0,\n",
              " 0.0,\n",
              " 0.0,\n",
              " 0.0,\n",
              " 0.0,\n",
              " 0.0,\n",
              " 0.0,\n",
              " 0.0,\n",
              " 0.0,\n",
              " 0.0,\n",
              " 0.0,\n",
              " 0.0,\n",
              " 0.0,\n",
              " 0.0,\n",
              " 0.0,\n",
              " 0.0,\n",
              " 0.0,\n",
              " 0.0,\n",
              " 0.0,\n",
              " 0.0,\n",
              " 0.0,\n",
              " 0.0,\n",
              " 0.0,\n",
              " 0.0,\n",
              " 0.0,\n",
              " 0.0,\n",
              " 0.0,\n",
              " 0.0]"
            ]
          },
          "metadata": {},
          "execution_count": 37
        }
      ]
    },
    {
      "cell_type": "code",
      "source": [],
      "metadata": {
        "id": "wpqg5gNRclKg"
      },
      "execution_count": null,
      "outputs": []
    }
  ]
}